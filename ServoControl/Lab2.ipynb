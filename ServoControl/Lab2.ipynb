{
 "metadata": {
  "name": "",
  "signature": "sha256:59ea0d58028a1d055cba24fc4ede9312cdd3da9e9a6ca6e6c72ab2f7a5c43f0b"
 },
 "nbformat": 3,
 "nbformat_minor": 0,
 "worksheets": [
  {
   "cells": [
    {
     "cell_type": "code",
     "collapsed": false,
     "input": [
      "from math import *"
     ],
     "language": "python",
     "metadata": {},
     "outputs": [],
     "prompt_number": 19
    },
    {
     "cell_type": "code",
     "collapsed": false,
     "input": [
      "# Part 2.1\n",
      "\n",
      "khw = kc*ka*kt*kP*ke*ks\n",
      "# khw = 16.881\n",
      "\n",
      "# kp = "
     ],
     "language": "python",
     "metadata": {},
     "outputs": [],
     "prompt_number": 20
    },
    {
     "cell_type": "code",
     "collapsed": false,
     "input": [
      "# FOR ZETA == .2\n",
      "Z = 0.200\n",
      "\n",
      "jmo = 0.00015625\n",
      "# 0.0168\n",
      "# jm = 0.016825\n",
      "# jm = 0.0042065\n",
      "j1 = 0.00275 # kg m**2\n",
      "\n",
      "r = 0.09  # m\n",
      "m = 0.5  # kg\n",
      "\n",
      "NUM_MASS = 2\n",
      "\n",
      "jm = NUM_MASS * (jmo + (m * r**2)) # inertia of 2 masses\n",
      "\n",
      "# j = (jm + j1)\n",
      "j = jm + j1\n",
      "\n",
      "kc = 10.0/32768\n",
      "ka = 2\n",
      "kt = 0.1\n",
      "kP = 3\n",
      "ke = 16000 / (2 * pi)\n",
      "ks = 32\n",
      "\n",
      "wn = 2 * (2 * pi)\n",
      "# wn = 2 * pi\n",
      "# khw = kc*ka*kt*kP*ke*ks\n",
      "# khw = 16.881\n",
      "\n",
      "kp = (wn**2 * j) / khw\n",
      "kd = (Z * 2 * j * wn) / khw\n",
      "\n",
      "print \"wn : %8.5f\" % wn\n",
      "print \"j  : % 8.5f\" % j\n",
      "print \"khw: %8.5f\" % khw\n",
      "print \"kp : % 8.5f\" % kp\n",
      "print \"kd : %8.5f\" % kd"
     ],
     "language": "python",
     "metadata": {},
     "outputs": [
      {
       "output_type": "stream",
       "stream": "stdout",
       "text": [
        "wn : 12.56637\n",
        "j  :  0.01116\n",
        "khw: 14.92078\n",
        "kp :  0.11814\n",
        "kd :  0.00376\n"
       ]
      }
     ],
     "prompt_number": 21
    },
    {
     "cell_type": "code",
     "collapsed": false,
     "input": [
      "# FOR ZETA == 1\n",
      "Z = 1\n",
      "\n",
      "jmo = 0.00015625\n",
      "# 0.0168\n",
      "# jm = 0.016825\n",
      "# jm = 0.0042065\n",
      "j1 = 0.00275 # kg m**2\n",
      "\n",
      "r = 0.09  # m\n",
      "m = 0.5  # kg\n",
      "\n",
      "NUM_MASS = 2\n",
      "\n",
      "jm = NUM_MASS * (jmo + (m * r**2)) # inertia of 2 masses\n",
      "\n",
      "# j = (jm + j1)\n",
      "j = jm + j1\n",
      "\n",
      "kc = 10.0/32768\n",
      "ka = 2\n",
      "kt = 0.1\n",
      "kP = 3\n",
      "ke = 16000 / (2 * pi)\n",
      "ks = 32\n",
      "\n",
      "wn = 2 * (2 * pi)\n",
      "# wn = 2 * pi\n",
      "# khw = kc*ka*kt*kP*ke*ks\n",
      "# khw = 16.881\n",
      "\n",
      "kp = (wn**2 * j) / khw\n",
      "kd = (Z * 2 * j * wn) / khw\n",
      "\n",
      "print \"wn : %8.5f\" % wn\n",
      "print \"j  : % 8.5f\" % j\n",
      "print \"khw: %8.5f\" % khw\n",
      "print \"kp : % 8.5f\" % kp\n",
      "print \"kd : %8.5f\" % kd"
     ],
     "language": "python",
     "metadata": {},
     "outputs": [
      {
       "output_type": "stream",
       "stream": "stdout",
       "text": [
        "wn : 12.56637\n",
        "j  :  0.01116\n",
        "khw: 14.92078\n",
        "kp :  0.11814\n",
        "kd :  0.01880\n"
       ]
      }
     ],
     "prompt_number": 22
    },
    {
     "cell_type": "code",
     "collapsed": false,
     "input": [
      "# FOR ZETA == 2\n",
      "Z = 2\n",
      "\n",
      "jmo = 0.00015625\n",
      "# 0.0168\n",
      "# jm = 0.016825\n",
      "# jm = 0.0042065\n",
      "j1 = 0.00275 # kg m**2\n",
      "\n",
      "r = 0.09  # m\n",
      "m = 0.5  # kg\n",
      "\n",
      "NUM_MASS = 2\n",
      "\n",
      "jm = NUM_MASS * (jmo + (m * r**2)) # inertia of 2 masses\n",
      "\n",
      "# j = (jm + j1)\n",
      "j = jm + j1\n",
      "\n",
      "kc = 10.0/32768\n",
      "ka = 2\n",
      "kt = 0.1\n",
      "kP = 3\n",
      "ke = 16000 / (2 * pi)\n",
      "ks = 32\n",
      "\n",
      "wn = 2 * (2 * pi)\n",
      "# wn = 2 * pi\n",
      "# khw = kc*ka*kt*kP*ke*ks\n",
      "# khw = 16.881\n",
      "\n",
      "kp = (wn**2 * j) / khw\n",
      "kd = (Z * 2 * j * wn) / khw\n",
      "\n",
      "print \"wn : %8.5f\" % wn\n",
      "print \"j  : % 8.5f\" % j\n",
      "print \"khw: %8.5f\" % khw\n",
      "print \"kp : % 8.5f\" % kp\n",
      "print \"kd : %8.5f\" % kd"
     ],
     "language": "python",
     "metadata": {},
     "outputs": [
      {
       "output_type": "stream",
       "stream": "stdout",
       "text": [
        "wn : 12.56637\n",
        "j  :  0.01116\n",
        "khw: 14.92078\n",
        "kp :  0.11814\n",
        "kd :  0.03760\n"
       ]
      }
     ],
     "prompt_number": 23
    },
    {
     "cell_type": "code",
     "collapsed": false,
     "input": [
      "## 4.1\n",
      "\n",
      "\n",
      "ki = 3.0/khw\n",
      "print \"ki : %8.5f\" % ki\n",
      "print \"ki : %8.5f\" % (ki*2)"
     ],
     "language": "python",
     "metadata": {},
     "outputs": [
      {
       "output_type": "stream",
       "stream": "stdout",
       "text": [
        "ki :  0.20106\n",
        "ki :  0.40212\n"
       ]
      }
     ],
     "prompt_number": 24
    }
   ],
   "metadata": {}
  }
 ]
}